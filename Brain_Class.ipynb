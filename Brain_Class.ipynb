{
  "nbformat": 4,
  "nbformat_minor": 0,
  "metadata": {
    "colab": {
      "provenance": []
    },
    "kernelspec": {
      "name": "python3",
      "display_name": "Python 3"
    },
    "language_info": {
      "name": "python"
    }
  },
  "cells": [
    {
      "cell_type": "markdown",
      "source": [
        "## What is Brain Class"
      ],
      "metadata": {
        "id": "5swVrC-gbL8a"
      }
    },
    {
      "cell_type": "markdown",
      "source": [
        " \n",
        "\n",
        "1.   The Brain class is the most important part of SpeechBrain.\n",
        "2.   It is used to perform the training loop (iterate through the dataset and update the model parameters) by using the fit() method. \n",
        "3. It abstracts away the details of the data loops.\n",
        "\n",
        "4. To use the fit( ) method, the following two methods need to be defined :\n",
        "> def compute_forward ( self, batch, stage ) : computes the forward pass and generate the model predictions\n",
        "> def compute_objectives (self, predictions, batch, stage ) : contains the \n",
        "loss function used to find the gradient "
      ],
      "metadata": {
        "id": "8J7S5iVobGjc"
      }
    },
    {
      "cell_type": "markdown",
      "source": [
        "## Parameters required to Define Brain Class\n",
        "\n",
        "In order to define the Brain Class, we require five arguments :\n",
        "1. **modules**  : It takes the model and converts to Torch ModelDict. It makes sure to convert all parameters to same device, for calling train( ) and eval ( )\n",
        "2. **opt_class** : This argument takes the pytorch optimizer that is to be used. It can be defined in the HyperPyYaml file and can be passed as an argument.\n",
        "3.  **hparams** : This argument takes the set of hyperparameters that need to be defined separately.\n",
        "4.  **run_opts** : This argument handles the execution details of training such as the training device, distributed execution etc.\n",
        "5.  **checkpointer** : This is used to save various details relevant to saving the model like parameters, training progress etc\n",
        "\n",
        "Example of brain class\n",
        "> brain = SimpleBrain ( {\"model\": model},  hparams['opt_class'],  hparams,  run_opts={'device':device}, )\n"
      ],
      "metadata": {
        "id": "8o3jjxocbrrz"
      }
    },
    {
      "cell_type": "markdown",
      "source": [
        "## Using fit( ) method\n",
        "\n",
        "The fit ( ) method performs the training by taking in arguments such as number of epochs, train data, validation data and parameters related to data loader such as batch_size. \n",
        "The following is as example of how to call the fit ( ) method\n",
        "\n",
        "> brain.fit ( range(hparams[\"N_epochs\"]), data, train_loader_kwargs=hparams[\"dataloader_options\"]  )\n"
      ],
      "metadata": {
        "id": "zpgO_zYCcYos"
      }
    },
    {
      "cell_type": "markdown",
      "source": [
        "## Running an experiment\n",
        "To run an experiment you have to run the following command after activating the speechbrain environment, the train file contains the Brain class, compute_forward, compute_ objectives and the data loader, while the yaml file contains all the hyperparameters required for training the model  :\n",
        "\t\n",
        ">  python train.py hyp.yaml\n",
        "\n"
      ],
      "metadata": {
        "id": "F_Jx2kSmc6jM"
      }
    },
    {
      "cell_type": "markdown",
      "source": [
        "Install SpeechBrain"
      ],
      "metadata": {
        "id": "K4-FbJGzvYza"
      }
    },
    {
      "cell_type": "code",
      "execution_count": null,
      "metadata": {
        "id": "57b8OksZt8Ji"
      },
      "outputs": [],
      "source": [
        "!pip install speechbrain"
      ]
    },
    {
      "cell_type": "markdown",
      "source": [
        "Import Libraries"
      ],
      "metadata": {
        "id": "gtpOoTTfvboC"
      }
    },
    {
      "cell_type": "code",
      "source": [
        "import torch\n",
        "import speechbrain as sb"
      ],
      "metadata": {
        "id": "LBN-STwbuUkj"
      },
      "execution_count": null,
      "outputs": []
    },
    {
      "cell_type": "markdown",
      "source": [
        "Define the SimpleBrain Class. You need to define two methods here\n",
        "1. compute_forward ( ) \n",
        "2. compute_objectives ( )"
      ],
      "metadata": {
        "id": "Lj6S9TlQvfcY"
      }
    },
    {
      "cell_type": "code",
      "source": [
        "class SimpleBrain(sb.Brain):\n",
        "\n",
        "  # This method  take the batch and computes the forward pass\n",
        "  \n",
        "  def compute_forward(self, batch, stage):\n",
        "    return self.modules.model(batch[\"input\"])\n",
        "\n",
        "  # This method takes the  predictions and labels to minimize the \n",
        "  #loss function and updates the weights\n",
        "\n",
        "  def compute_objectives(self, predictions, batch, stage):\n",
        "    return torch.nn.functional.l1_loss(predictions, batch[\"target\"])\n"
      ],
      "metadata": {
        "id": "5WxPmOXHveaS"
      },
      "execution_count": null,
      "outputs": []
    },
    {
      "cell_type": "markdown",
      "source": [
        "Define the model and brain.fit( )"
      ],
      "metadata": {
        "id": "I7t5j_N0wGt5"
      }
    },
    {
      "cell_type": "code",
      "source": [
        "#Define a torch model consisiting of single linear layer\n",
        "model = torch.nn.Linear(in_features=10, out_features=10)\n",
        "\n",
        "\n",
        "# data with random tensor just for demonstration\n",
        "data = [{\"input\": torch.rand(10, 10), \"target\": torch.rand(10, 10)}]\n",
        "\n",
        "#Brain class is defined by taking the model,optimiser class\n",
        "brain = SimpleBrain({\"model\": model}, opt_class=lambda x: torch.optim.SGD(x, 0.1),)\n",
        "\n",
        "#Use the fit method to train the model \n",
        "brain.fit(range(10), data)"
      ],
      "metadata": {
        "colab": {
          "base_uri": "https://localhost:8080/"
        },
        "id": "XtQm943rvhs_",
        "outputId": "15ddbc12-1590-4a16-d978-d35fee5bbe05"
      },
      "execution_count": null,
      "outputs": [
        {
          "output_type": "stream",
          "name": "stderr",
          "text": [
            "100%|██████████| 1/1 [00:00<00:00,  6.24it/s, train_loss=0.658]\n",
            "100%|██████████| 1/1 [00:00<00:00, 253.95it/s, train_loss=0.63]\n",
            "100%|██████████| 1/1 [00:00<00:00, 380.68it/s, train_loss=0.602]\n",
            "100%|██████████| 1/1 [00:00<00:00, 395.95it/s, train_loss=0.576]\n",
            "100%|██████████| 1/1 [00:00<00:00, 382.66it/s, train_loss=0.55]\n",
            "100%|██████████| 1/1 [00:00<00:00, 168.22it/s, train_loss=0.528]\n",
            "100%|██████████| 1/1 [00:00<00:00, 468.17it/s, train_loss=0.506]\n",
            "100%|██████████| 1/1 [00:00<00:00, 314.75it/s, train_loss=0.485]\n",
            "100%|██████████| 1/1 [00:00<00:00, 294.81it/s, train_loss=0.465]\n",
            "100%|██████████| 1/1 [00:00<00:00, 346.06it/s, train_loss=0.447]\n"
          ]
        }
      ]
    },
    {
      "cell_type": "markdown",
      "source": [
        "You can find a detailed description [here](https://colab.research.google.com/drive/1fdqTk4CTXNcrcSVFvaOKzRfLmj4fJfwa?usp=sharing#scrollTo=zRHI45kUzKul)"
      ],
      "metadata": {
        "id": "mzmx7Ns0xvNt"
      }
    }
  ]
}