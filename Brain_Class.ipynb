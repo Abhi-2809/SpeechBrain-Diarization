{
  "nbformat": 4,
  "nbformat_minor": 0,
  "metadata": {
    "colab": {
      "provenance": []
    },
    "kernelspec": {
      "name": "python3",
      "display_name": "Python 3"
    },
    "language_info": {
      "name": "python"
    }
  },
  "cells": [
    {
      "cell_type": "markdown",
      "source": [
        "Install SpeechBrain"
      ],
      "metadata": {
        "id": "K4-FbJGzvYza"
      }
    },
    {
      "cell_type": "code",
      "execution_count": null,
      "metadata": {
        "id": "57b8OksZt8Ji"
      },
      "outputs": [],
      "source": [
        "!pip install speechbrain"
      ]
    },
    {
      "cell_type": "markdown",
      "source": [
        "Import Libraries"
      ],
      "metadata": {
        "id": "gtpOoTTfvboC"
      }
    },
    {
      "cell_type": "code",
      "source": [
        "import torch\n",
        "import speechbrain as sb"
      ],
      "metadata": {
        "id": "LBN-STwbuUkj"
      },
      "execution_count": 2,
      "outputs": []
    },
    {
      "cell_type": "markdown",
      "source": [
        "Define the SimpleBrain Class. You need to define two methods here\n",
        "1. compute_forward ( ) \n",
        "2. compute_objectives ( )"
      ],
      "metadata": {
        "id": "Lj6S9TlQvfcY"
      }
    },
    {
      "cell_type": "code",
      "source": [
        "class SimpleBrain(sb.Brain):\n",
        "\n",
        "  # This method  take the batch and computes the forward pass\n",
        "  def compute_forward(self, batch, stage):\n",
        "    return self.modules.model(batch[\"input\"])\n",
        "\n",
        "  # This method takes the  predictions and labels to minimize the \n",
        "  #loss function and updates the weights\n",
        "  def compute_objectives(self, predictions, batch, stage):\n",
        "    return torch.nn.functional.l1_loss(predictions, batch[\"target\"])\n"
      ],
      "metadata": {
        "id": "5WxPmOXHveaS"
      },
      "execution_count": 3,
      "outputs": []
    },
    {
      "cell_type": "markdown",
      "source": [
        "Define the model and brain.fit( )"
      ],
      "metadata": {
        "id": "I7t5j_N0wGt5"
      }
    },
    {
      "cell_type": "code",
      "source": [
        "#Define a torch model consisiting of single linear layer\n",
        "model = torch.nn.Linear(in_features=10, out_features=10)\n",
        "\n",
        "\n",
        "# data with random tensor just for demonstration\n",
        "data = [{\"input\": torch.rand(10, 10), \"target\": torch.rand(10, 10)}]\n",
        "\n",
        "#Brain class is defined by taking the model,optimiser class\n",
        "brain = SimpleBrain({\"model\": model}, opt_class=lambda x: torch.optim.SGD(x, 0.1),)\n",
        "\n",
        "#Use the fit method to train the model \n",
        "brain.fit(range(10), data)"
      ],
      "metadata": {
        "colab": {
          "base_uri": "https://localhost:8080/"
        },
        "id": "XtQm943rvhs_",
        "outputId": "15ddbc12-1590-4a16-d978-d35fee5bbe05"
      },
      "execution_count": 4,
      "outputs": [
        {
          "output_type": "stream",
          "name": "stderr",
          "text": [
            "100%|██████████| 1/1 [00:00<00:00,  6.24it/s, train_loss=0.658]\n",
            "100%|██████████| 1/1 [00:00<00:00, 253.95it/s, train_loss=0.63]\n",
            "100%|██████████| 1/1 [00:00<00:00, 380.68it/s, train_loss=0.602]\n",
            "100%|██████████| 1/1 [00:00<00:00, 395.95it/s, train_loss=0.576]\n",
            "100%|██████████| 1/1 [00:00<00:00, 382.66it/s, train_loss=0.55]\n",
            "100%|██████████| 1/1 [00:00<00:00, 168.22it/s, train_loss=0.528]\n",
            "100%|██████████| 1/1 [00:00<00:00, 468.17it/s, train_loss=0.506]\n",
            "100%|██████████| 1/1 [00:00<00:00, 314.75it/s, train_loss=0.485]\n",
            "100%|██████████| 1/1 [00:00<00:00, 294.81it/s, train_loss=0.465]\n",
            "100%|██████████| 1/1 [00:00<00:00, 346.06it/s, train_loss=0.447]\n"
          ]
        }
      ]
    }
  ]
}